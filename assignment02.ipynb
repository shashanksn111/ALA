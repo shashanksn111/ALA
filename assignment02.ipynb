{
  "nbformat": 4,
  "nbformat_minor": 0,
  "metadata": {
    "colab": {
      "provenance": [],
      "authorship_tag": "ABX9TyOg/2+4lWijRnrwLFfTjAsF",
      "include_colab_link": true
    },
    "kernelspec": {
      "name": "python3",
      "display_name": "Python 3"
    },
    "language_info": {
      "name": "python"
    }
  },
  "cells": [
    {
      "cell_type": "markdown",
      "metadata": {
        "id": "view-in-github",
        "colab_type": "text"
      },
      "source": [
        "<a href=\"https://colab.research.google.com/github/shashanksn111/ALA/blob/main/assignment02.ipynb\" target=\"_parent\"><img src=\"https://colab.research.google.com/assets/colab-badge.svg\" alt=\"Open In Colab\"/></a>"
      ]
    },
    {
      "cell_type": "code",
      "execution_count": 2,
      "metadata": {
        "colab": {
          "base_uri": "https://localhost:8080/"
        },
        "id": "S5nokSEA3nI_",
        "outputId": "ab43b42b-fd00-4635-ab5c-176b4d56a8a0"
      },
      "outputs": [
        {
          "output_type": "stream",
          "name": "stdout",
          "text": [
            "Most distant pair: (array([ 72. , 118. ,  37.5]), array([ 78., 136.,  37.]))\n",
            "Max distance: 18.980252896102307\n"
          ]
        }
      ],
      "source": [
        "# 1) which patient is farthest from rest ?\n",
        "\n",
        "import numpy as np\n",
        "\n",
        "dataset = np.array([[76,126,38.0],\n",
        "                    [74,120,38.0],\n",
        "                    [72,118,37.5],\n",
        "                    [78,136,37.0]])\n",
        "\n",
        "def find_most_distant_entries(dataset):\n",
        "    max_distance = 0\n",
        "    most_distant_pair = None\n",
        "\n",
        "    for i, p1 in enumerate(dataset):\n",
        "        for j, p2 in enumerate(dataset):\n",
        "            if i != j:  # Avoid comparing a point to itself\n",
        "                distance = np.linalg.norm(p1 - p2)\n",
        "                if distance > max_distance:\n",
        "                    max_distance = distance\n",
        "                    most_distant_pair = (p1, p2)\n",
        "\n",
        "    return most_distant_pair, max_distance\n",
        "\n",
        "most_distant_pair, max_distance = find_most_distant_entries(dataset)\n",
        "print(\"Most distant pair:\", most_distant_pair)\n",
        "print(\"Max distance:\", max_distance)\n"
      ]
    },
    {
      "cell_type": "code",
      "source": [
        "# 2) which two patient are nearest ?\n",
        "\n",
        "import numpy as np\n",
        "\n",
        "dataset = np.array([[76,126,38.0],\n",
        "                    [74,120,38.0],\n",
        "                    [72,118,37.5],\n",
        "                    [78,136,37.0]])\n",
        "\n",
        "def find_most_nearest_entries(dataset):\n",
        "    min_distance = float('inf')\n",
        "    most_nearest_pair = None\n",
        "\n",
        "    for i in range(len(dataset)):\n",
        "        for j in range(i + 1, len(dataset)):\n",
        "            distance = np.linalg.norm(dataset[i] - dataset[j])\n",
        "            if distance < min_distance:\n",
        "                min_distance = distance\n",
        "                most_nearest_pair = (dataset[i], dataset[j])\n",
        "\n",
        "    return most_nearest_pair, min_distance\n",
        "\n",
        "most_nearest_pair, min_distance = find_most_nearest_entries(dataset)\n",
        "print(\"Most nearest pair:\", most_nearest_pair)\n",
        "print(\"Min distance:\", min_distance)\n"
      ],
      "metadata": {
        "colab": {
          "base_uri": "https://localhost:8080/"
        },
        "id": "8ZCH5GxO6hVo",
        "outputId": "466b9e28-c65d-4a5c-8701-df6966078fc9"
      },
      "execution_count": 4,
      "outputs": [
        {
          "output_type": "stream",
          "name": "stdout",
          "text": [
            "Most nearest pair: (array([ 74., 120.,  38.]), array([ 72. , 118. ,  37.5]))\n",
            "Min distance: 2.8722813232690143\n"
          ]
        }
      ]
    },
    {
      "cell_type": "code",
      "source": [
        "# 3)create a new dummy patient,and then find the closest patient ?\n",
        "import numpy as np\n",
        "\n",
        "dataset = np.array([[76,126,38.0],\n",
        "                    [74,120,38.0],\n",
        "                    [72,118,37.5],\n",
        "                    [78,136,37.0]])\n",
        "\n",
        "target_entry = np.array([75,130,40.0])  # The given target entry\n",
        "\n",
        "def find_closest_entry(dataset, target_entry):\n",
        "    distances = np.linalg.norm(dataset - target_entry, axis=1)\n",
        "    closest_index = np.argmin(distances)\n",
        "    return dataset[closest_index], distances[closest_index]\n",
        "\n",
        "closest_entry, min_distance = find_closest_entry(dataset, target_entry)\n",
        "print(\"Closest entry:\", closest_entry)\n",
        "print(\"Min distance:\", min_distance)"
      ],
      "metadata": {
        "id": "iplZIyyt9OyC"
      },
      "execution_count": null,
      "outputs": []
    },
    {
      "cell_type": "markdown",
      "source": [
        "1. What is the time complexity of this operation of finding the closest two and farthest patients? Specify using BigO notation.\n",
        "\n",
        " *Answer*: Since we will be iterating through two for loops for both the operations, the time complexity will be O(n^2), where n is the number of data entries in the dataset.\n",
        "\n",
        "2. Can you name one practical use of such a simple technique when about 100s of features are available and thousands of patient data is available?\n",
        "\n",
        " *Answer*: This simple technique will be essential when a patient has to be treated but there is very limited time. By using the nearest point searching algorithm, we will find a patient with the similar vitals and impose their treatment method with the new patient. We can use the farthest data points to eliminate the risk of over dosing the patient and give a reliable treatment to the patient.\n"
      ],
      "metadata": {
        "id": "jOBTlX5kAQZ2"
      }
    }
  ]
}